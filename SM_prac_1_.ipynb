{
  "nbformat": 4,
  "nbformat_minor": 0,
  "metadata": {
    "colab": {
      "provenance": []
    },
    "kernelspec": {
      "name": "python3",
      "display_name": "Python 3"
    },
    "language_info": {
      "name": "python"
    }
  },
  "cells": [
    {
      "cell_type": "code",
      "execution_count": null,
      "metadata": {
        "id": "r3vsgLaFnG3H"
      },
      "outputs": [],
      "source": [
        "import numpy as np\n"
      ]
    },
    {
      "cell_type": "code",
      "source": [
        " arr = np.array([[1,2,3],[4,5,6],[7,8,9]],dtype=float)   \n",
        " arr "
      ],
      "metadata": {
        "colab": {
          "base_uri": "https://localhost:8080/"
        },
        "id": "E2cqZdpFndm_",
        "outputId": "0c1f1e3f-3b08-427b-c659-b64063c8a8c4"
      },
      "execution_count": null,
      "outputs": [
        {
          "output_type": "execute_result",
          "data": {
            "text/plain": [
              "array([[1., 2., 3.],\n",
              "       [4., 5., 6.],\n",
              "       [7., 8., 9.]])"
            ]
          },
          "metadata": {},
          "execution_count": 5
        }
      ]
    },
    {
      "cell_type": "code",
      "source": [
        "print(type(arr))"
      ],
      "metadata": {
        "colab": {
          "base_uri": "https://localhost:8080/"
        },
        "id": "VTWT6N0gpkGW",
        "outputId": "b47c4351-4a9e-4280-f7df-a490ffa0e93e"
      },
      "execution_count": null,
      "outputs": [
        {
          "output_type": "stream",
          "name": "stdout",
          "text": [
            "<class 'numpy.ndarray'>\n"
          ]
        }
      ]
    },
    {
      "cell_type": "code",
      "source": [
        "print(arr.ndim)"
      ],
      "metadata": {
        "colab": {
          "base_uri": "https://localhost:8080/"
        },
        "id": "yNnOcipFqiLi",
        "outputId": "593b575a-8614-44cd-a80c-5dde47a42875"
      },
      "execution_count": null,
      "outputs": [
        {
          "output_type": "stream",
          "name": "stdout",
          "text": [
            "2\n"
          ]
        }
      ]
    },
    {
      "cell_type": "code",
      "source": [
        "print(arr.shape)"
      ],
      "metadata": {
        "colab": {
          "base_uri": "https://localhost:8080/"
        },
        "id": "CPtM0_xLqsbW",
        "outputId": "3ddba037-c6e2-44db-d4e5-97e0ed252ec0"
      },
      "execution_count": null,
      "outputs": [
        {
          "output_type": "stream",
          "name": "stdout",
          "text": [
            "(3, 3)\n"
          ]
        }
      ]
    },
    {
      "cell_type": "code",
      "source": [
        "print(arr.size)"
      ],
      "metadata": {
        "colab": {
          "base_uri": "https://localhost:8080/"
        },
        "id": "mfVPBd4krNl5",
        "outputId": "ea77413e-1097-4e68-b575-ea6dc96428e5"
      },
      "execution_count": null,
      "outputs": [
        {
          "output_type": "stream",
          "name": "stdout",
          "text": [
            "9\n"
          ]
        }
      ]
    },
    {
      "cell_type": "code",
      "source": [
        "print(arr.dtype)"
      ],
      "metadata": {
        "colab": {
          "base_uri": "https://localhost:8080/"
        },
        "id": "ocrG4FxarqBA",
        "outputId": "db9bc10d-70a7-4519-d56d-d10cb16ae804"
      },
      "execution_count": null,
      "outputs": [
        {
          "output_type": "stream",
          "name": "stdout",
          "text": [
            "float64\n"
          ]
        }
      ]
    },
    {
      "cell_type": "code",
      "source": [
        "lst=[1,2,3,4,65]\n",
        "arr2=np.array([lst])\n",
        "print(arr2)\n"
      ],
      "metadata": {
        "colab": {
          "base_uri": "https://localhost:8080/"
        },
        "id": "H_gki801sCjI",
        "outputId": "99903bc8-5a0a-4149-b28a-6351c696e98c"
      },
      "execution_count": null,
      "outputs": [
        {
          "output_type": "stream",
          "name": "stdout",
          "text": [
            "[[ 1  2  3  4 65]]\n"
          ]
        }
      ]
    },
    {
      "cell_type": "code",
      "source": [
        "zero=np.zeros((3,5))\n",
        "zero"
      ],
      "metadata": {
        "colab": {
          "base_uri": "https://localhost:8080/"
        },
        "id": "RSRRet7ss_7W",
        "outputId": "78e6211a-1f81-4c5e-d8d6-a13eee3b5aa5"
      },
      "execution_count": null,
      "outputs": [
        {
          "output_type": "execute_result",
          "data": {
            "text/plain": [
              "array([[0., 0., 0., 0., 0.],\n",
              "       [0., 0., 0., 0., 0.],\n",
              "       [0., 0., 0., 0., 0.]])"
            ]
          },
          "metadata": {},
          "execution_count": 16
        }
      ]
    },
    {
      "cell_type": "code",
      "source": [
        "full=np.full((3,3),7,dtype=complex)\n",
        "full"
      ],
      "metadata": {
        "colab": {
          "base_uri": "https://localhost:8080/"
        },
        "id": "qx09BJcWtH5G",
        "outputId": "6d47cf1c-2067-4d28-cabf-69fd062d3a83"
      },
      "execution_count": null,
      "outputs": [
        {
          "output_type": "execute_result",
          "data": {
            "text/plain": [
              "array([[7.+0.j, 7.+0.j, 7.+0.j],\n",
              "       [7.+0.j, 7.+0.j, 7.+0.j],\n",
              "       [7.+0.j, 7.+0.j, 7.+0.j]])"
            ]
          },
          "metadata": {},
          "execution_count": 18
        }
      ]
    },
    {
      "cell_type": "code",
      "source": [
        "random=np.random.random((3,3))\n",
        "random"
      ],
      "metadata": {
        "colab": {
          "base_uri": "https://localhost:8080/"
        },
        "id": "0OgMquArtgxg",
        "outputId": "95e7dcdb-2e97-48cf-ea64-4581b852c988"
      },
      "execution_count": null,
      "outputs": [
        {
          "output_type": "execute_result",
          "data": {
            "text/plain": [
              "array([[0.14792573, 0.15675126, 0.20163511],\n",
              "       [0.21102086, 0.51724274, 0.07980167],\n",
              "       [0.60992326, 0.76629415, 0.33932137]])"
            ]
          },
          "metadata": {},
          "execution_count": 22
        }
      ]
    },
    {
      "cell_type": "code",
      "source": [
        "t=np.arange(1,10,2)\n",
        "t"
      ],
      "metadata": {
        "colab": {
          "base_uri": "https://localhost:8080/"
        },
        "id": "ifiPU2mrvahB",
        "outputId": "45bfd8a6-7147-4914-ed56-3649b26bf127"
      },
      "execution_count": null,
      "outputs": [
        {
          "output_type": "execute_result",
          "data": {
            "text/plain": [
              "array([1, 3, 5, 7, 9])"
            ]
          },
          "metadata": {},
          "execution_count": 23
        }
      ]
    },
    {
      "cell_type": "code",
      "source": [
        "l=np.linspace(1,10,99999)\n",
        "l"
      ],
      "metadata": {
        "colab": {
          "base_uri": "https://localhost:8080/"
        },
        "id": "isZnlgsQv9ab",
        "outputId": "95a5c5e5-6b14-4014-bd50-81ea3b32bc62"
      },
      "execution_count": null,
      "outputs": [
        {
          "output_type": "execute_result",
          "data": {
            "text/plain": [
              "array([ 1.     ,  1.00009,  1.00018, ...,  9.99982,  9.99991, 10.     ])"
            ]
          },
          "metadata": {},
          "execution_count": 3
        }
      ]
    },
    {
      "cell_type": "code",
      "source": [
        "r=arr.reshape((1,3,3))\n",
        "r"
      ],
      "metadata": {
        "colab": {
          "base_uri": "https://localhost:8080/"
        },
        "id": "a5unlED6wcf4",
        "outputId": "0e0ee198-5805-4ec2-dceb-8fbf638915e4"
      },
      "execution_count": null,
      "outputs": [
        {
          "output_type": "execute_result",
          "data": {
            "text/plain": [
              "array([[[1., 2., 3.],\n",
              "        [4., 5., 6.],\n",
              "        [7., 8., 9.]]])"
            ]
          },
          "metadata": {},
          "execution_count": 19
        }
      ]
    },
    {
      "cell_type": "code",
      "source": [
        "f=arr.flatten()\n",
        "f"
      ],
      "metadata": {
        "colab": {
          "base_uri": "https://localhost:8080/"
        },
        "id": "Ay7vklzLy7iQ",
        "outputId": "f6a4a393-3d12-4085-e273-c769688b6776"
      },
      "execution_count": null,
      "outputs": [
        {
          "output_type": "execute_result",
          "data": {
            "text/plain": [
              "array([1., 2., 3., 4., 5., 6., 7., 8., 9.])"
            ]
          },
          "metadata": {},
          "execution_count": 20
        }
      ]
    },
    {
      "cell_type": "code",
      "source": [
        "arr = np.array([[-1, 2, 0, 4],\n",
        "                [4, -0.5, 6, 0],\n",
        "                [2.6, 0, 7, 8],\n",
        "                [3, -7, 4, 2.0]])"
      ],
      "metadata": {
        "id": "b4SA96XF01_7"
      },
      "execution_count": null,
      "outputs": []
    },
    {
      "cell_type": "code",
      "source": [
        "temp= arr[:2,::2]\n",
        "temp"
      ],
      "metadata": {
        "colab": {
          "base_uri": "https://localhost:8080/"
        },
        "id": "YIK_jIf31IUS",
        "outputId": "94161fa6-658c-4104-989b-ad585fc070d6"
      },
      "execution_count": null,
      "outputs": [
        {
          "output_type": "execute_result",
          "data": {
            "text/plain": [
              "array([[-1.,  0.],\n",
              "       [ 4.,  6.]])"
            ]
          },
          "metadata": {},
          "execution_count": 22
        }
      ]
    },
    {
      "cell_type": "code",
      "source": [
        "cond = arr > 2\n",
        "temp = arr[cond]\n",
        "temp"
      ],
      "metadata": {
        "colab": {
          "base_uri": "https://localhost:8080/"
        },
        "id": "h1gDef6b3CJY",
        "outputId": "9c47bd33-c44a-4a15-cb4a-33b799d70c44"
      },
      "execution_count": null,
      "outputs": [
        {
          "output_type": "execute_result",
          "data": {
            "text/plain": [
              "array([4. , 4. , 6. , 2.6, 7. , 8. , 3. , 4. ])"
            ]
          },
          "metadata": {},
          "execution_count": 25
        }
      ]
    },
    {
      "cell_type": "code",
      "source": [
        "Trans_arr = arr.T\n",
        "print(\"\\nTranspose of Array: \")\n",
        "print(Trans_arr)"
      ],
      "metadata": {
        "colab": {
          "base_uri": "https://localhost:8080/"
        },
        "id": "-4QeqytF3otp",
        "outputId": "927eb9cd-2391-41fb-fae7-01f1460fb9a0"
      },
      "execution_count": null,
      "outputs": [
        {
          "output_type": "stream",
          "name": "stdout",
          "text": [
            "\n",
            "Transpose of Array: \n",
            "[[-1.   4.   2.6  3. ]\n",
            " [ 2.  -0.5  0.  -7. ]\n",
            " [ 0.   6.   7.   4. ]\n",
            " [ 4.   0.   8.   2. ]]\n"
          ]
        }
      ]
    },
    {
      "cell_type": "code",
      "source": [
        "AM=arr.max(axis=0)\n",
        "AM"
      ],
      "metadata": {
        "colab": {
          "base_uri": "https://localhost:8080/"
        },
        "id": "MbbYSJDy4st-",
        "outputId": "c0b4f0b9-a365-41b9-9ef4-f90146dc977f"
      },
      "execution_count": null,
      "outputs": [
        {
          "output_type": "execute_result",
          "data": {
            "text/plain": [
              "array([4., 2., 7., 8.])"
            ]
          },
          "metadata": {},
          "execution_count": 29
        }
      ]
    },
    {
      "cell_type": "code",
      "source": [
        "AM=arr.cumsum(axis=0)\n",
        "AM"
      ],
      "metadata": {
        "colab": {
          "base_uri": "https://localhost:8080/"
        },
        "id": "hlj1SRMF6wtw",
        "outputId": "1a6584a0-e0df-4ab4-c7ff-e933ade72753"
      },
      "execution_count": null,
      "outputs": [
        {
          "output_type": "execute_result",
          "data": {
            "text/plain": [
              "array([[-1. ,  2. ,  0. ,  4. ],\n",
              "       [ 3. ,  1.5,  6. ,  4. ],\n",
              "       [ 5.6,  1.5, 13. , 12. ],\n",
              "       [ 8.6, -5.5, 17. , 14. ]])"
            ]
          },
          "metadata": {},
          "execution_count": 30
        }
      ]
    },
    {
      "cell_type": "code",
      "source": [
        "num_list = [6,7,10,12,13,4,8,12]\n",
        "num_sum = sum(num_list)\n",
        "mean = num_sum / len(num_list)\n",
        "print(num_list)\n",
        "print(\"Mean of the above list of numbers is: \" + str(round(mean,2)))"
      ],
      "metadata": {
        "colab": {
          "base_uri": "https://localhost:8080/"
        },
        "id": "zwVZWL0-536B",
        "outputId": "532a15e1-ac65-4ad6-82ed-ca7f04622a42"
      },
      "execution_count": null,
      "outputs": [
        {
          "output_type": "stream",
          "name": "stdout",
          "text": [
            "[6, 7, 10, 12, 13, 4, 8, 12]\n",
            "Mean of the above list of numbers is: 9.0\n"
          ]
        }
      ]
    },
    {
      "cell_type": "code",
      "source": [
        "list1=[6,7,10,12,13,4,8,12]\n",
        "mean = sum(list1)/len(list1)\n",
        "len = int(len(list1))\n",
        "for i in list1:\n",
        "  variance=(i+mean)/len\n",
        "print(variance)"
      ],
      "metadata": {
        "id": "ugVsI3kv_1Wa",
        "outputId": "f434331c-30b2-43d6-cfac-e773c95afd38",
        "colab": {
          "base_uri": "https://localhost:8080/"
        }
      },
      "execution_count": null,
      "outputs": [
        {
          "output_type": "stream",
          "name": "stdout",
          "text": [
            "2.625\n"
          ]
        }
      ]
    }
  ]
}